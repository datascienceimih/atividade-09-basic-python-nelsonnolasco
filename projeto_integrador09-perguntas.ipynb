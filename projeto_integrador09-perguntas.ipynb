{
 "cells": [
  {
   "cell_type": "markdown",
   "metadata": {},
   "source": [
    "# Projeto Integrador 09\n",
    "## Prof. Neylson Crepalde\n",
    "###                     Aluno Nelson de Campos Nolasco\n",
    "\n",
    "Olá. Neste exercício do projeto integrador, vamos praticar algumas habilidades básicas em Python. Vamos lidar com algumas estruturas de dados nativas da linguagem.\n",
    "\n",
    "1) Crie uma lista com 100 números gerados aleatoriamente. Use o módulo `numpy` para criar os dados que você precisa. Atribua a lista a um objeto nomeado."
   ]
  },
  {
   "cell_type": "code",
   "execution_count": 4,
   "metadata": {},
   "outputs": [
    {
     "name": "stdout",
     "output_type": "stream",
     "text": [
      "[-0.90635887 -0.41441024 -0.25008242 -0.68688715  1.68278545 -2.96251228\n",
      " -1.72571536 -1.12978479  1.440723   -1.52562825  2.077719    0.8725985\n",
      "  0.15482751 -0.43330004 -1.82773638  1.08681129 -0.55251669 -0.65617014\n",
      " -0.06734098  0.8994363   0.76854709  0.15053331 -0.74432806 -1.33276403\n",
      "  0.86182929  0.08976159 -0.04586908  0.58935552  1.18636268  0.45446635\n",
      " -0.97001237  0.16872209  0.72759226  0.22051306  0.87383519  0.888174\n",
      "  2.33087097  1.24790807  0.56596291  0.23209331 -0.21227878  0.55192273\n",
      " -1.15364662  0.86984237 -0.06909328 -0.66671032 -0.39173065 -0.41980013\n",
      " -1.12880988 -0.30405858  1.45921026 -0.5316843  -0.01641139 -1.75221485\n",
      " -0.46282944  0.39033563  0.88881824 -0.11060913 -0.39489475  1.00011835\n",
      "  0.47605243 -0.92867297 -2.00375284  0.55243837 -0.49551805  1.24822564\n",
      " -1.06218123  1.01258853  0.786332   -0.25070434  0.07723093 -0.54239453\n",
      " -0.85530948  1.42089413 -0.04002869 -1.30177861 -0.11324708  0.25544956\n",
      " -2.17085742  0.23211111  0.55522589  1.34538585 -0.05832788 -0.91549993\n",
      "  0.5653684   0.92721608 -0.74300432  0.27711823  0.88017077  0.52424295\n",
      "  1.33283732 -0.40382779  1.94157975 -1.11348633 -1.13346958 -1.34707219\n",
      "  0.59514391 -0.60724909 -0.11923306 -1.13462009]\n"
     ]
    }
   ],
   "source": [
    "import numpy as np\n",
    "numeros = np.random.normal(size=100)\n",
    "print (numeros)"
   ]
  },
  {
   "cell_type": "code",
   "execution_count": null,
   "metadata": {},
   "outputs": [],
   "source": []
  },
  {
   "cell_type": "markdown",
   "metadata": {},
   "source": [
    "2) Apresente o maior número, o menor número, a média do vetor, o desvio padrão e a variância. Todas essas funções podem ser encontradas no módulo `numpy`."
   ]
  },
  {
   "cell_type": "code",
   "execution_count": 11,
   "metadata": {},
   "outputs": [
    {
     "name": "stdout",
     "output_type": "stream",
     "text": [
      "Ok, Nelson é bom de cálculo, vamos la!\n",
      "Aqui temos o número máximo = 2.33\n",
      "Aqui temos o número mínimo = -2.96\n",
      "Agora a média do vetor = -0.01\n",
      "Também o desvio padrão = 1.0\n",
      "Por fim, a variância = 0.99\n",
      "Eu disse que seria moleza!\n"
     ]
    }
   ],
   "source": [
    "print(\"Ok, Nelson é bom de cálculo, vamos la!\")\n",
    "print(\"Aqui temos o número máximo = \" + str(round(numeros.max(),2)))\n",
    "print(\"Aqui temos o número mínimo = \" + str(round(numeros.min(),2)))\n",
    "print(\"Agora a média do vetor = \" + str(round(numeros.mean(),2)))\n",
    "print(\"Também o desvio padrão = \" + str(round(numeros.std(),2)))\n",
    "print(\"Por fim, a variância = \" + str(round(numeros.var(),2)))\n",
    "print(\"Eu disse que seria moleza!\")"
   ]
  },
  {
   "cell_type": "code",
   "execution_count": null,
   "metadata": {},
   "outputs": [],
   "source": []
  },
  {
   "cell_type": "markdown",
   "metadata": {},
   "source": [
    "3) Apresente os mesmos resultados só que agora, construa uma frase que será apresentada no console. Ex.: A média do vetor numérico é 0.12."
   ]
  },
  {
   "cell_type": "code",
   "execution_count": 13,
   "metadata": {},
   "outputs": [
    {
     "name": "stdout",
     "output_type": "stream",
     "text": [
      "O valor máximo do vetor é 2.33\n",
      "O valor mínimo do vetor é -2.96\n",
      "A média do vetor numérico é -0.01\n",
      "O valor do desvio padrão é 1.0\n",
      "Terminando, O valor da variância é 0.99\n",
      "Nada de novo, já havia feito no exercício anterior. Esta mágica eu já sabia, rsrs !\n"
     ]
    }
   ],
   "source": [
    "print(\"O valor máximo do vetor é \"+ str(round(numeros.max(),2)))\n",
    "print(\"O valor mínimo do vetor é \" + str(round(numeros.min(),2)))\n",
    "print(\"A média do vetor numérico é \" + str(round(numeros.mean(),2)))\n",
    "print(\"O valor do desvio padrão é \" + str(round(numeros.std(),2)))\n",
    "print(\"Terminando, O valor da variância é \" + str(round(numeros.var(),2)))\n",
    "print(\"Nada de novo, já havia feito no exercício anterior. Esta mágica eu já sabia, rsrs !\")"
   ]
  },
  {
   "cell_type": "markdown",
   "metadata": {},
   "source": [
    "4) Construa um for loop para iterar entre todos os números do vetor. Exiba o número no console se ele for maior do que 0."
   ]
  },
  {
   "cell_type": "code",
   "execution_count": 14,
   "metadata": {},
   "outputs": [
    {
     "name": "stdout",
     "output_type": "stream",
     "text": [
      "Eba! Já um tempinho estudando Python, esta parada é beleza!\n",
      "[1.68278545 1.440723   2.077719   0.8725985  0.15482751 1.08681129\n",
      " 0.8994363  0.76854709 0.15053331 0.86182929 0.08976159 0.58935552\n",
      " 1.18636268 0.45446635 0.16872209 0.72759226 0.22051306 0.87383519\n",
      " 0.888174   2.33087097 1.24790807 0.56596291 0.23209331 0.55192273\n",
      " 0.86984237 1.45921026 0.39033563 0.88881824 1.00011835 0.47605243\n",
      " 0.55243837 1.24822564 1.01258853 0.786332   0.07723093 1.42089413\n",
      " 0.25544956 0.23211111 0.55522589 1.34538585 0.5653684  0.92721608\n",
      " 0.27711823 0.88017077 0.52424295 1.33283732 1.94157975 0.59514391]\n"
     ]
    }
   ],
   "source": [
    "print(\"Eba! Já um tempinho estudando Python, esta parada é beleza!\")\n",
    "print(numeros[[i for i in numeros > 0]])"
   ]
  },
  {
   "cell_type": "markdown",
   "metadata": {},
   "source": [
    "5) Faça a mesma coisa usando um loop while."
   ]
  },
  {
   "cell_type": "code",
   "execution_count": 18,
   "metadata": {},
   "outputs": [
    {
     "name": "stdout",
     "output_type": "stream",
     "text": [
      "1.682785445813385\n",
      "1.4407230009997836\n",
      "2.0777190029175907\n",
      "0.8725985004007365\n",
      "0.15482750560768752\n",
      "1.086811288008084\n",
      "0.8994362963533512\n",
      "0.7685470899245366\n",
      "0.15053330827198771\n",
      "0.8618292859637617\n",
      "0.0897615904940509\n",
      "0.5893555222992191\n",
      "1.1863626826533626\n",
      "0.45446634547718817\n",
      "0.16872209359721535\n",
      "0.7275922595476764\n",
      "0.2205130612645372\n",
      "0.873835194485753\n",
      "0.8881740041316203\n",
      "2.330870966908954\n",
      "1.247908073300798\n",
      "0.5659629108752231\n",
      "0.23209330857752955\n",
      "0.5519227286830403\n",
      "0.8698423675046822\n",
      "1.4592102551824941\n",
      "0.39033562679449557\n",
      "0.8888182393046751\n",
      "1.0001183526345447\n",
      "0.47605242595176717\n",
      "0.5524383738977383\n",
      "1.2482256437848958\n",
      "1.0125885274073645\n",
      "0.7863320013202825\n",
      "0.07723093133753961\n",
      "1.420894126802414\n",
      "0.2554495582933358\n",
      "0.2321111087108823\n",
      "0.5552258920889616\n",
      "1.3453858530828815\n",
      "0.5653683964809797\n",
      "0.9272160802574702\n",
      "0.27711822685756293\n",
      "0.8801707714083209\n",
      "0.5242429517059143\n",
      "1.3328373227148034\n",
      "1.941579745140089\n",
      "0.595143910908827\n"
     ]
    }
   ],
   "source": [
    "i = 0\n",
    "while i < len(numeros):\n",
    "    if numeros[i] > 0:\n",
    "        print(numeros  [i])\n",
    "    i += 1"
   ]
  },
  {
   "cell_type": "markdown",
   "metadata": {},
   "source": [
    "6) Usando um comando, crie uma lista com números de 0 a 80. Usando um for loop e um loop while, se o número estiver entre 0 e 20, imprima pequeno. Se estiver entre 21 e 40, imprima médio. Se estiver entre 41 e 60, imprima grande. Se estiver entre 61 e 80, imprima \"Que isso, meu?\". Se o número for igual à sua idade, imprima na tela \"Te peguei!\"."
   ]
  },
  {
   "cell_type": "code",
   "execution_count": 19,
   "metadata": {},
   "outputs": [
    {
     "name": "stdout",
     "output_type": "stream",
     "text": [
      "Pequeno\n",
      "Pequeno\n",
      "Pequeno\n",
      "Pequeno\n",
      "Pequeno\n",
      "Pequeno\n",
      "Pequeno\n",
      "Pequeno\n",
      "Pequeno\n",
      "Pequeno\n",
      "Pequeno\n",
      "Pequeno\n",
      "Pequeno\n",
      "Pequeno\n",
      "Pequeno\n",
      "Pequeno\n",
      "Pequeno\n",
      "Pequeno\n",
      "Pequeno\n",
      "Pequeno\n",
      "Pequeno\n",
      "Médio\n",
      "Médio\n",
      "Médio\n",
      "Médio\n",
      "Médio\n",
      "Médio\n",
      "Médio\n",
      "Médio\n",
      "Médio\n",
      "Médio\n",
      "Te peguei\n",
      "Médio\n",
      "Médio\n",
      "Médio\n",
      "Médio\n",
      "Médio\n",
      "Médio\n",
      "Médio\n",
      "Médio\n",
      "Médio\n",
      "Médio\n",
      "Grande\n",
      "Grande\n",
      "Grande\n",
      "Grande\n",
      "Grande\n",
      "Grande\n",
      "Grande\n",
      "Grande\n",
      "Grande\n",
      "Grande\n",
      "Grande\n",
      "Grande\n",
      "Grande\n",
      "Grande\n",
      "Grande\n",
      "Grande\n",
      "Grande\n",
      "Grande\n",
      "Grande\n",
      "Grande\n",
      "Que isso, meu?\n",
      "Que isso, meu?\n",
      "Que isso, meu?\n",
      "Que isso, meu?\n",
      "Que isso, meu?\n",
      "Que isso, meu?\n",
      "Que isso, meu?\n",
      "Que isso, meu?\n",
      "Que isso, meu?\n",
      "Que isso, meu?\n",
      "Que isso, meu?\n",
      "Que isso, meu?\n",
      "Que isso, meu?\n",
      "Que isso, meu?\n",
      "Que isso, meu?\n",
      "Que isso, meu?\n",
      "Que isso, meu?\n",
      "Que isso, meu?\n",
      "Que isso, meu?\n",
      "Que isso, meu?\n"
     ]
    }
   ],
   "source": [
    "list_num = list(range(81))\n",
    "\n",
    "for i in list_num:\n",
    "    if i == 53:\n",
    "        print(\"Te peguei\")\n",
    "    if i <= 20:\n",
    "        print(\"Pequeno\")\n",
    "    elif i > 20 and i <= 40:\n",
    "        print(\"Médio\")\n",
    "    elif i > 40 and i <= 60:\n",
    "        print(\"Grande\")\n",
    "    elif i > 60:\n",
    "        print(\"Que isso, meu?\")"
   ]
  },
  {
   "cell_type": "markdown",
   "metadata": {},
   "source": [
    "7) Crie um dicionário. As chaves serão os nomes de 5 pessoas e os valores, suas idades. Usando um for loop, imprima os pares chave, valor."
   ]
  },
  {
   "cell_type": "code",
   "execution_count": 2,
   "metadata": {},
   "outputs": [],
   "source": [
    "dic = {}\n",
    "# O for loop vai ficar assim\n",
    "for i, j in dic.items():\n",
    "    print(i, j)\n",
    "\n",
    "# Isso acontece porque dic.items() retorna tuplas com pares de chaves e valores. \n",
    "# Se atribuímos o retorno de dic.items() a i, j, o primeiro vai para i e o segundo vai para j"
   ]
  },
  {
   "cell_type": "code",
   "execution_count": 30,
   "metadata": {},
   "outputs": [
    {
     "name": "stdout",
     "output_type": "stream",
     "text": [
      "Nelson 53\n",
      "Sandra 49\n",
      "Mariana 21\n",
      "Laura 20\n",
      "Thiago 15\n"
     ]
    }
   ],
   "source": [
    "dic = {\"Nelson\": 53,\n",
    "      \"Sandra\": 49,\n",
    "      \"Mariana\": 21,\n",
    "      \"Laura\": 20,\n",
    "      \"Thiago\": 15}\n",
    "for i, j in dic.items():\n",
    "    print(i, j)"
   ]
  },
  {
   "cell_type": "markdown",
   "metadata": {},
   "source": [
    "8) Usando um for loop, mostre quem é a pessoa mais velha e a pessoa mais nova no dicionário. Dica: usaremos um for loop iterando sobre os pares de chaves, valores (os itens).\n",
    "\n",
    "## Divirta-se!!!"
   ]
  },
  {
   "cell_type": "code",
   "execution_count": 34,
   "metadata": {},
   "outputs": [
    {
     "name": "stdout",
     "output_type": "stream",
     "text": [
      "Nelson é a pessoa mais velha. Sua idade é 53 anos.\n",
      "Thiago é a pessoa mais jovem. Sua idade é 15 anos.\n"
     ]
    }
   ],
   "source": [
    "for i, j in dic.items():\n",
    "    if j == max(dic.values()):\n",
    "        print(i + \" é a pessoa mais velha. Sua idade é \" + str(j) + \" anos.\")\n",
    "    if j == min(dic.values()):\n",
    "        print(i + \" é a pessoa mais jovem. Sua idade é \" + str(j) + \" anos.\")"
   ]
  },
  {
   "cell_type": "code",
   "execution_count": null,
   "metadata": {},
   "outputs": [],
   "source": []
  }
 ],
 "metadata": {
  "kernelspec": {
   "display_name": "Python 3",
   "language": "python",
   "name": "python3"
  },
  "language_info": {
   "codemirror_mode": {
    "name": "ipython",
    "version": 3
   },
   "file_extension": ".py",
   "mimetype": "text/x-python",
   "name": "python",
   "nbconvert_exporter": "python",
   "pygments_lexer": "ipython3",
   "version": "3.6.5"
  }
 },
 "nbformat": 4,
 "nbformat_minor": 2
}
